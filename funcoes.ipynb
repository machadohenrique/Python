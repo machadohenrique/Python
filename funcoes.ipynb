{
 "cells": [
  {
   "cell_type": "code",
   "execution_count": 1,
   "metadata": {},
   "outputs": [
    {
     "name": "stdout",
     "output_type": "stream",
     "text": [
      "esta é uma função\n"
     ]
    }
   ],
   "source": [
    "def imprime():\n",
    "    print(\"esta é uma função\")\n",
    "imprime()"
   ]
  },
  {
   "cell_type": "code",
   "execution_count": 2,
   "metadata": {},
   "outputs": [
    {
     "name": "stdout",
     "output_type": "stream",
     "text": [
      "EEEEEEE\n"
     ]
    }
   ],
   "source": [
    "def imprime(n):\n",
    "    print(n)\n",
    "imprime(\"EEEEEEE\")"
   ]
  },
  {
   "cell_type": "code",
   "execution_count": 3,
   "metadata": {},
   "outputs": [
    {
     "name": "stdout",
     "output_type": "stream",
     "text": [
      "9\n"
     ]
    }
   ],
   "source": [
    "def potencia(n):\n",
    "    return n * n\n",
    "x = potencia(3)\n",
    "print(x)"
   ]
  },
  {
   "cell_type": "code",
   "execution_count": 4,
   "metadata": {},
   "outputs": [
    {
     "name": "stdout",
     "output_type": "stream",
     "text": [
      "1\n",
      "2\n",
      "3\n",
      "4\n",
      "5\n",
      "6\n",
      "7\n",
      "8\n",
      "9\n",
      "10\n",
      "1\n",
      "2\n",
      "3\n",
      "4\n",
      "5\n",
      "6\n",
      "7\n",
      "8\n",
      "9\n",
      "10\n"
     ]
    }
   ],
   "source": [
    "def intervalo(inic=1, fim=10):\n",
    "    for n in range(inic, fim+1):\n",
    "        print(n)\n",
    "x = intervalo(1,10)\n",
    "y = intervalo()"
   ]
  },
  {
   "cell_type": "code",
   "execution_count": 7,
   "metadata": {},
   "outputs": [
    {
     "name": "stdout",
     "output_type": "stream",
     "text": [
      "200\n",
      "maior valor:  45\n",
      "minimo valor:  1\n",
      "Soma:  108\n",
      "Arredondamento:  2.35\n"
     ]
    }
   ],
   "source": [
    "#funçoes padrão\n",
    "print(abs(-200))\n",
    "lst = [1,2,30,30,45]\n",
    "print(\"maior valor: \", max(lst))\n",
    "print(\"minimo valor: \", min(lst))\n",
    "print(\"Soma: \", sum(lst))\n",
    "print(\"Arredondamento: \", round(2.34567,2))"
   ]
  },
  {
   "cell_type": "code",
   "execution_count": 8,
   "metadata": {},
   "outputs": [
    {
     "name": "stdout",
     "output_type": "stream",
     "text": [
      "2.35\n"
     ]
    }
   ],
   "source": [
    "num = 2.34567\n",
    "print(round(num, 2))"
   ]
  },
  {
   "cell_type": "code",
   "execution_count": 9,
   "metadata": {},
   "outputs": [
    {
     "name": "stdout",
     "output_type": "stream",
     "text": [
      "Média:  21.6\n",
      "Mediana:  30\n",
      "Moda:  30\n"
     ]
    }
   ],
   "source": [
    "from statistics import *\n",
    "print(\"Média: \", mean(lst))\n",
    "print(\"Mediana: \", median(lst))\n",
    "print(\"Moda: \", mode(lst))"
   ]
  },
  {
   "cell_type": "code",
   "execution_count": 10,
   "metadata": {},
   "outputs": [
    {
     "name": "stdout",
     "output_type": "stream",
     "text": [
      "Desvio Padrão:  19.346834366376324\n"
     ]
    }
   ],
   "source": [
    "print(\"Desvio Padrão: \", stdev(lst))"
   ]
  },
  {
   "cell_type": "code",
   "execution_count": 11,
   "metadata": {},
   "outputs": [
    {
     "name": "stdout",
     "output_type": "stream",
     "text": [
      "Variancia:  374.3\n"
     ]
    }
   ],
   "source": [
    "print(\"Variancia: \", variance(lst))"
   ]
  },
  {
   "cell_type": "code",
   "execution_count": 12,
   "metadata": {},
   "outputs": [
    {
     "name": "stdout",
     "output_type": "stream",
     "text": [
      "<class 'numpy.ndarray'>\n",
      "[[0.90781916 0.99696036 0.26920616 0.4409114  0.49456926 0.20948152\n",
      "  0.89273349 0.45485989]\n",
      " [0.40759802 0.86458533 0.54540222 0.00427594 0.04102824 0.99340969\n",
      "  0.89058168 0.41667873]\n",
      " [0.03039156 0.80178179 0.90016527 0.93216154 0.29460384 0.26809115\n",
      "  0.99526253 0.27515743]\n",
      " [0.45496339 0.83858079 0.73000727 0.14251281 0.60052385 0.38829648\n",
      "  0.41157679 0.02594325]\n",
      " [0.11968937 0.15061472 0.62457711 0.65933814 0.66755235 0.84241435\n",
      "  0.02670536 0.11445517]\n",
      " [0.4244059  0.50174838 0.33388339 0.88433173 0.74267576 0.64803869\n",
      "  0.36874415 0.26549039]\n",
      " [0.08053572 0.94238278 0.3949227  0.8510868  0.12249822 0.85252785\n",
      "  0.90753671 0.60389225]\n",
      " [0.34847612 0.56989937 0.45901259 0.22626389 0.48137868 0.89668214\n",
      "  0.2960064  0.34366395]]\n"
     ]
    }
   ],
   "source": [
    "from numpy import *\n",
    "a = random.random((8,8))\n",
    "print(type(a))\n",
    "print(a)"
   ]
  }
 ],
 "metadata": {
  "kernelspec": {
   "display_name": "Python 3",
   "language": "python",
   "name": "python3"
  },
  "language_info": {
   "codemirror_mode": {
    "name": "ipython",
    "version": 3
   },
   "file_extension": ".py",
   "mimetype": "text/x-python",
   "name": "python",
   "nbconvert_exporter": "python",
   "pygments_lexer": "ipython3",
   "version": "3.11.3"
  },
  "orig_nbformat": 4
 },
 "nbformat": 4,
 "nbformat_minor": 2
}
